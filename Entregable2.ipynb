{
  "nbformat": 4,
  "nbformat_minor": 0,
  "metadata": {
    "colab": {
      "provenance": [],
      "collapsed_sections": [
        "-1li-bBxYgTo",
        "doxPn0OqZrbW",
        "klmxtZDlw_8q"
      ]
    },
    "kernelspec": {
      "name": "python3",
      "display_name": "Python 3"
    },
    "language_info": {
      "name": "python"
    }
  },
  "cells": [
    {
      "cell_type": "code",
      "execution_count": null,
      "metadata": {
        "id": "6LuBxefMkvLX",
        "colab": {
          "base_uri": "https://localhost:8080/"
        },
        "outputId": "053240e8-03d3-4012-942a-cb8a0e5d8501"
      },
      "outputs": [
        {
          "output_type": "stream",
          "name": "stdout",
          "text": [
            "Drive already mounted at /content/gdrive; to attempt to forcibly remount, call drive.mount(\"/content/gdrive\", force_remount=True).\n"
          ]
        }
      ],
      "source": [
        "from google.colab import drive\n",
        "\n",
        "drive.mount(\"/content/gdrive\") "
      ]
    },
    {
      "cell_type": "code",
      "source": [
        "%cd \"/content/gdrive/MyDrive/Bloque 2 IA/Estadistica/Entregable 2\"\n",
        "!ls"
      ],
      "metadata": {
        "colab": {
          "base_uri": "https://localhost:8080/"
        },
        "id": "JWl_8-TEl2GH",
        "outputId": "f097cb51-9c36-4cf9-fcf1-ad10bae01f62"
      },
      "execution_count": null,
      "outputs": [
        {
          "output_type": "stream",
          "name": "stdout",
          "text": [
            "/content/gdrive/MyDrive/Bloque 2 IA/Estadistica/Entregable 2\n",
            "'Entregable 2.ipynb'   Entregable2.ipynb   IGAE.csv   Indicadores.xlsx\n"
          ]
        }
      ]
    },
    {
      "cell_type": "code",
      "source": [
        "import pandas as pd\n",
        "import numpy as np\n",
        "from statsmodels.graphics.tsaplots import plot_acf, plot_pacf"
      ],
      "metadata": {
        "id": "hBFge2yfl4q-"
      },
      "execution_count": null,
      "outputs": []
    },
    {
      "cell_type": "markdown",
      "source": [
        "# Entregable 2"
      ],
      "metadata": {
        "id": "p3y9BPKHYb4H"
      }
    },
    {
      "cell_type": "markdown",
      "source": [
        "## Lectura de datos"
      ],
      "metadata": {
        "id": "-1li-bBxYgTo"
      }
    },
    {
      "cell_type": "code",
      "source": [
        "df = pd.read_csv('IGAE.csv')\n",
        "df"
      ],
      "metadata": {
        "id": "e5_ezNCkl6aE",
        "colab": {
          "base_uri": "https://localhost:8080/",
          "height": 424
        },
        "outputId": "6ae172d1-f049-4e35-b1e3-b12d607c7c39"
      },
      "execution_count": null,
      "outputs": [
        {
          "output_type": "execute_result",
          "data": {
            "text/plain": [
              "     Periodo       Valor\n",
              "0    2022/08  113.320302\n",
              "1    2022/07  111.268587\n",
              "2    2022/06  112.797501\n",
              "3    2022/05  114.442424\n",
              "4    2022/04  109.529866\n",
              "..       ...         ...\n",
              "351  1993/05   63.612900\n",
              "352  1993/04   61.865984\n",
              "353  1993/03   63.943249\n",
              "354  1993/02   61.022521\n",
              "355  1993/01   60.407691\n",
              "\n",
              "[356 rows x 2 columns]"
            ],
            "text/html": [
              "\n",
              "  <div id=\"df-673b6f93-1c7c-424d-808f-d17a94794089\">\n",
              "    <div class=\"colab-df-container\">\n",
              "      <div>\n",
              "<style scoped>\n",
              "    .dataframe tbody tr th:only-of-type {\n",
              "        vertical-align: middle;\n",
              "    }\n",
              "\n",
              "    .dataframe tbody tr th {\n",
              "        vertical-align: top;\n",
              "    }\n",
              "\n",
              "    .dataframe thead th {\n",
              "        text-align: right;\n",
              "    }\n",
              "</style>\n",
              "<table border=\"1\" class=\"dataframe\">\n",
              "  <thead>\n",
              "    <tr style=\"text-align: right;\">\n",
              "      <th></th>\n",
              "      <th>Periodo</th>\n",
              "      <th>Valor</th>\n",
              "    </tr>\n",
              "  </thead>\n",
              "  <tbody>\n",
              "    <tr>\n",
              "      <th>0</th>\n",
              "      <td>2022/08</td>\n",
              "      <td>113.320302</td>\n",
              "    </tr>\n",
              "    <tr>\n",
              "      <th>1</th>\n",
              "      <td>2022/07</td>\n",
              "      <td>111.268587</td>\n",
              "    </tr>\n",
              "    <tr>\n",
              "      <th>2</th>\n",
              "      <td>2022/06</td>\n",
              "      <td>112.797501</td>\n",
              "    </tr>\n",
              "    <tr>\n",
              "      <th>3</th>\n",
              "      <td>2022/05</td>\n",
              "      <td>114.442424</td>\n",
              "    </tr>\n",
              "    <tr>\n",
              "      <th>4</th>\n",
              "      <td>2022/04</td>\n",
              "      <td>109.529866</td>\n",
              "    </tr>\n",
              "    <tr>\n",
              "      <th>...</th>\n",
              "      <td>...</td>\n",
              "      <td>...</td>\n",
              "    </tr>\n",
              "    <tr>\n",
              "      <th>351</th>\n",
              "      <td>1993/05</td>\n",
              "      <td>63.612900</td>\n",
              "    </tr>\n",
              "    <tr>\n",
              "      <th>352</th>\n",
              "      <td>1993/04</td>\n",
              "      <td>61.865984</td>\n",
              "    </tr>\n",
              "    <tr>\n",
              "      <th>353</th>\n",
              "      <td>1993/03</td>\n",
              "      <td>63.943249</td>\n",
              "    </tr>\n",
              "    <tr>\n",
              "      <th>354</th>\n",
              "      <td>1993/02</td>\n",
              "      <td>61.022521</td>\n",
              "    </tr>\n",
              "    <tr>\n",
              "      <th>355</th>\n",
              "      <td>1993/01</td>\n",
              "      <td>60.407691</td>\n",
              "    </tr>\n",
              "  </tbody>\n",
              "</table>\n",
              "<p>356 rows × 2 columns</p>\n",
              "</div>\n",
              "      <button class=\"colab-df-convert\" onclick=\"convertToInteractive('df-673b6f93-1c7c-424d-808f-d17a94794089')\"\n",
              "              title=\"Convert this dataframe to an interactive table.\"\n",
              "              style=\"display:none;\">\n",
              "        \n",
              "  <svg xmlns=\"http://www.w3.org/2000/svg\" height=\"24px\"viewBox=\"0 0 24 24\"\n",
              "       width=\"24px\">\n",
              "    <path d=\"M0 0h24v24H0V0z\" fill=\"none\"/>\n",
              "    <path d=\"M18.56 5.44l.94 2.06.94-2.06 2.06-.94-2.06-.94-.94-2.06-.94 2.06-2.06.94zm-11 1L8.5 8.5l.94-2.06 2.06-.94-2.06-.94L8.5 2.5l-.94 2.06-2.06.94zm10 10l.94 2.06.94-2.06 2.06-.94-2.06-.94-.94-2.06-.94 2.06-2.06.94z\"/><path d=\"M17.41 7.96l-1.37-1.37c-.4-.4-.92-.59-1.43-.59-.52 0-1.04.2-1.43.59L10.3 9.45l-7.72 7.72c-.78.78-.78 2.05 0 2.83L4 21.41c.39.39.9.59 1.41.59.51 0 1.02-.2 1.41-.59l7.78-7.78 2.81-2.81c.8-.78.8-2.07 0-2.86zM5.41 20L4 18.59l7.72-7.72 1.47 1.35L5.41 20z\"/>\n",
              "  </svg>\n",
              "      </button>\n",
              "      \n",
              "  <style>\n",
              "    .colab-df-container {\n",
              "      display:flex;\n",
              "      flex-wrap:wrap;\n",
              "      gap: 12px;\n",
              "    }\n",
              "\n",
              "    .colab-df-convert {\n",
              "      background-color: #E8F0FE;\n",
              "      border: none;\n",
              "      border-radius: 50%;\n",
              "      cursor: pointer;\n",
              "      display: none;\n",
              "      fill: #1967D2;\n",
              "      height: 32px;\n",
              "      padding: 0 0 0 0;\n",
              "      width: 32px;\n",
              "    }\n",
              "\n",
              "    .colab-df-convert:hover {\n",
              "      background-color: #E2EBFA;\n",
              "      box-shadow: 0px 1px 2px rgba(60, 64, 67, 0.3), 0px 1px 3px 1px rgba(60, 64, 67, 0.15);\n",
              "      fill: #174EA6;\n",
              "    }\n",
              "\n",
              "    [theme=dark] .colab-df-convert {\n",
              "      background-color: #3B4455;\n",
              "      fill: #D2E3FC;\n",
              "    }\n",
              "\n",
              "    [theme=dark] .colab-df-convert:hover {\n",
              "      background-color: #434B5C;\n",
              "      box-shadow: 0px 1px 3px 1px rgba(0, 0, 0, 0.15);\n",
              "      filter: drop-shadow(0px 1px 2px rgba(0, 0, 0, 0.3));\n",
              "      fill: #FFFFFF;\n",
              "    }\n",
              "  </style>\n",
              "\n",
              "      <script>\n",
              "        const buttonEl =\n",
              "          document.querySelector('#df-673b6f93-1c7c-424d-808f-d17a94794089 button.colab-df-convert');\n",
              "        buttonEl.style.display =\n",
              "          google.colab.kernel.accessAllowed ? 'block' : 'none';\n",
              "\n",
              "        async function convertToInteractive(key) {\n",
              "          const element = document.querySelector('#df-673b6f93-1c7c-424d-808f-d17a94794089');\n",
              "          const dataTable =\n",
              "            await google.colab.kernel.invokeFunction('convertToInteractive',\n",
              "                                                     [key], {});\n",
              "          if (!dataTable) return;\n",
              "\n",
              "          const docLinkHtml = 'Like what you see? Visit the ' +\n",
              "            '<a target=\"_blank\" href=https://colab.research.google.com/notebooks/data_table.ipynb>data table notebook</a>'\n",
              "            + ' to learn more about interactive tables.';\n",
              "          element.innerHTML = '';\n",
              "          dataTable['output_type'] = 'display_data';\n",
              "          await google.colab.output.renderOutput(dataTable, element);\n",
              "          const docLink = document.createElement('div');\n",
              "          docLink.innerHTML = docLinkHtml;\n",
              "          element.appendChild(docLink);\n",
              "        }\n",
              "      </script>\n",
              "    </div>\n",
              "  </div>\n",
              "  "
            ]
          },
          "metadata": {},
          "execution_count": 4
        }
      ]
    },
    {
      "cell_type": "markdown",
      "source": [
        "Sorteamos los valores segun el periodo, receteamos y dropeamos los index para poder reordenar de forma periodica los datos"
      ],
      "metadata": {
        "id": "hs2yx4PlYi_t"
      }
    },
    {
      "cell_type": "code",
      "source": [
        "df = df.sort_values(by='Periodo')\n",
        "df = df.reset_index(drop=True)"
      ],
      "metadata": {
        "id": "7aL0ni0umm_u"
      },
      "execution_count": null,
      "outputs": []
    },
    {
      "cell_type": "markdown",
      "source": [
        "##Realizar pruebas estadísticas de estacionariedad y decide el tipo de transformación de la variable"
      ],
      "metadata": {
        "id": "doxPn0OqZrbW"
      }
    },
    {
      "cell_type": "markdown",
      "source": [
        "Podemos ver segun el plot de 'Valor' que nuestra variable es no estacionaria, ya que tiene un crecimiento visible"
      ],
      "metadata": {
        "id": "5fxL5mXXZd6h"
      }
    },
    {
      "cell_type": "code",
      "source": [
        "df['Valor'].plot()"
      ],
      "metadata": {
        "colab": {
          "base_uri": "https://localhost:8080/",
          "height": 284
        },
        "id": "M8x2GN-lXodF",
        "outputId": "a5ad9a4e-cbbf-4513-a45a-6bb097434f78"
      },
      "execution_count": null,
      "outputs": [
        {
          "output_type": "execute_result",
          "data": {
            "text/plain": [
              "<matplotlib.axes._subplots.AxesSubplot at 0x7ff45f1d4950>"
            ]
          },
          "metadata": {},
          "execution_count": 6
        },
        {
          "output_type": "display_data",
          "data": {
            "text/plain": [
              "<Figure size 432x288 with 1 Axes>"
            ],
            "image/png": "[encoded data removed]"
          },
          "metadata": {
            "needs_background": "light"
          }
        }
      ]
    },
    {
      "cell_type": "markdown",
      "source": [
        "Calculamos la diferencia entre el logaritmo de los valores anuales del crecimiento indice de volumen fisico base, esto con el fin de estacionarizar los datos "
      ],
      "metadata": {
        "id": "lVzgLqNHYwKO"
      }
    },
    {
      "cell_type": "code",
      "source": [
        "df['lnair'] = np.log(df['Valor'])  - np.log(df['Valor']).shift(12)\n",
        "df"
      ],
      "metadata": {
        "colab": {
          "base_uri": "https://localhost:8080/",
          "height": 424
        },
        "id": "LVvK1iz1ECUb",
        "outputId": "2770ce22-d5bd-4172-804e-c9d9ae4ce6ef"
      },
      "execution_count": null,
      "outputs": [
        {
          "output_type": "execute_result",
          "data": {
            "text/plain": [
              "     Periodo       Valor     lnair\n",
              "0    1993/01   60.407691       NaN\n",
              "1    1993/02   61.022521       NaN\n",
              "2    1993/03   63.943249       NaN\n",
              "3    1993/04   61.865984       NaN\n",
              "4    1993/05   63.612900       NaN\n",
              "..       ...         ...       ...\n",
              "351  2022/04  109.529866  0.013414\n",
              "352  2022/05  114.442424  0.021001\n",
              "353  2022/06  112.797501  0.014522\n",
              "354  2022/07  111.268587  0.012578\n",
              "355  2022/08  113.320302  0.055340\n",
              "\n",
              "[356 rows x 3 columns]"
            ],
            "text/html": [
              "\n",
              "  <div id=\"df-83314a20-b262-4667-b7d2-3e1fe0134082\">\n",
              "    <div class=\"colab-df-container\">\n",
              "      <div>\n",
              "<style scoped>\n",
              "    .dataframe tbody tr th:only-of-type {\n",
              "        vertical-align: middle;\n",
              "    }\n",
              "\n",
              "    .dataframe tbody tr th {\n",
              "        vertical-align: top;\n",
              "    }\n",
              "\n",
              "    .dataframe thead th {\n",
              "        text-align: right;\n",
              "    }\n",
              "</style>\n",
              "<table border=\"1\" class=\"dataframe\">\n",
              "  <thead>\n",
              "    <tr style=\"text-align: right;\">\n",
              "      <th></th>\n",
              "      <th>Periodo</th>\n",
              "      <th>Valor</th>\n",
              "      <th>lnair</th>\n",
              "    </tr>\n",
              "  </thead>\n",
              "  <tbody>\n",
              "    <tr>\n",
              "      <th>0</th>\n",
              "      <td>1993/01</td>\n",
              "      <td>60.407691</td>\n",
              "      <td>NaN</td>\n",
              "    </tr>\n",
              "    <tr>\n",
              "      <th>1</th>\n",
              "      <td>1993/02</td>\n",
              "      <td>61.022521</td>\n",
              "      <td>NaN</td>\n",
              "    </tr>\n",
              "    <tr>\n",
              "      <th>2</th>\n",
              "      <td>1993/03</td>\n",
              "      <td>63.943249</td>\n",
              "      <td>NaN</td>\n",
              "    </tr>\n",
              "    <tr>\n",
              "      <th>3</th>\n",
              "      <td>1993/04</td>\n",
              "      <td>61.865984</td>\n",
              "      <td>NaN</td>\n",
              "    </tr>\n",
              "    <tr>\n",
              "      <th>4</th>\n",
              "      <td>1993/05</td>\n",
              "      <td>63.612900</td>\n",
              "      <td>NaN</td>\n",
              "    </tr>\n",
              "    <tr>\n",
              "      <th>...</th>\n",
              "      <td>...</td>\n",
              "      <td>...</td>\n",
              "      <td>...</td>\n",
              "    </tr>\n",
              "    <tr>\n",
              "      <th>351</th>\n",
              "      <td>2022/04</td>\n",
              "      <td>109.529866</td>\n",
              "      <td>0.013414</td>\n",
              "    </tr>\n",
              "    <tr>\n",
              "      <th>352</th>\n",
              "      <td>2022/05</td>\n",
              "      <td>114.442424</td>\n",
              "      <td>0.021001</td>\n",
              "    </tr>\n",
              "    <tr>\n",
              "      <th>353</th>\n",
              "      <td>2022/06</td>\n",
              "      <td>112.797501</td>\n",
              "      <td>0.014522</td>\n",
              "    </tr>\n",
              "    <tr>\n",
              "      <th>354</th>\n",
              "      <td>2022/07</td>\n",
              "      <td>111.268587</td>\n",
              "      <td>0.012578</td>\n",
              "    </tr>\n",
              "    <tr>\n",
              "      <th>355</th>\n",
              "      <td>2022/08</td>\n",
              "      <td>113.320302</td>\n",
              "      <td>0.055340</td>\n",
              "    </tr>\n",
              "  </tbody>\n",
              "</table>\n",
              "<p>356 rows × 3 columns</p>\n",
              "</div>\n",
              "      <button class=\"colab-df-convert\" onclick=\"convertToInteractive('df-83314a20-b262-4667-b7d2-3e1fe0134082')\"\n",
              "              title=\"Convert this dataframe to an interactive table.\"\n",
              "              style=\"display:none;\">\n",
              "        \n",
              "  <svg xmlns=\"http://www.w3.org/2000/svg\" height=\"24px\"viewBox=\"0 0 24 24\"\n",
              "       width=\"24px\">\n",
              "    <path d=\"M0 0h24v24H0V0z\" fill=\"none\"/>\n",
              "    <path d=\"M18.56 5.44l.94 2.06.94-2.06 2.06-.94-2.06-.94-.94-2.06-.94 2.06-2.06.94zm-11 1L8.5 8.5l.94-2.06 2.06-.94-2.06-.94L8.5 2.5l-.94 2.06-2.06.94zm10 10l.94 2.06.94-2.06 2.06-.94-2.06-.94-.94-2.06-.94 2.06-2.06.94z\"/><path d=\"M17.41 7.96l-1.37-1.37c-.4-.4-.92-.59-1.43-.59-.52 0-1.04.2-1.43.59L10.3 9.45l-7.72 7.72c-.78.78-.78 2.05 0 2.83L4 21.41c.39.39.9.59 1.41.59.51 0 1.02-.2 1.41-.59l7.78-7.78 2.81-2.81c.8-.78.8-2.07 0-2.86zM5.41 20L4 18.59l7.72-7.72 1.47 1.35L5.41 20z\"/>\n",
              "  </svg>\n",
              "      </button>\n",
              "      \n",
              "  <style>\n",
              "    .colab-df-container {\n",
              "      display:flex;\n",
              "      flex-wrap:wrap;\n",
              "      gap: 12px;\n",
              "    }\n",
              "\n",
              "    .colab-df-convert {\n",
              "      background-color: #E8F0FE;\n",
              "      border: none;\n",
              "      border-radius: 50%;\n",
              "      cursor: pointer;\n",
              "      display: none;\n",
              "      fill: #1967D2;\n",
              "      height: 32px;\n",
              "      padding: 0 0 0 0;\n",
              "      width: 32px;\n",
              "    }\n",
              "\n",
              "    .colab-df-convert:hover {\n",
              "      background-color: #E2EBFA;\n",
              "      box-shadow: 0px 1px 2px rgba(60, 64, 67, 0.3), 0px 1px 3px 1px rgba(60, 64, 67, 0.15);\n",
              "      fill: #174EA6;\n",
              "    }\n",
              "\n",
              "    [theme=dark] .colab-df-convert {\n",
              "      background-color: #3B4455;\n",
              "      fill: #D2E3FC;\n",
              "    }\n",
              "\n",
              "    [theme=dark] .colab-df-convert:hover {\n",
              "      background-color: #434B5C;\n",
              "      box-shadow: 0px 1px 3px 1px rgba(0, 0, 0, 0.15);\n",
              "      filter: drop-shadow(0px 1px 2px rgba(0, 0, 0, 0.3));\n",
              "      fill: #FFFFFF;\n",
              "    }\n",
              "  </style>\n",
              "\n",
              "      <script>\n",
              "        const buttonEl =\n",
              "          document.querySelector('#df-83314a20-b262-4667-b7d2-3e1fe0134082 button.colab-df-convert');\n",
              "        buttonEl.style.display =\n",
              "          google.colab.kernel.accessAllowed ? 'block' : 'none';\n",
              "\n",
              "        async function convertToInteractive(key) {\n",
              "          const element = document.querySelector('#df-83314a20-b262-4667-b7d2-3e1fe0134082');\n",
              "          const dataTable =\n",
              "            await google.colab.kernel.invokeFunction('convertToInteractive',\n",
              "                                                     [key], {});\n",
              "          if (!dataTable) return;\n",
              "\n",
              "          const docLinkHtml = 'Like what you see? Visit the ' +\n",
              "            '<a target=\"_blank\" href=https://colab.research.google.com/notebooks/data_table.ipynb>data table notebook</a>'\n",
              "            + ' to learn more about interactive tables.';\n",
              "          element.innerHTML = '';\n",
              "          dataTable['output_type'] = 'display_data';\n",
              "          await google.colab.output.renderOutput(dataTable, element);\n",
              "          const docLink = document.createElement('div');\n",
              "          docLink.innerHTML = docLinkHtml;\n",
              "          element.appendChild(docLink);\n",
              "        }\n",
              "      </script>\n",
              "    </div>\n",
              "  </div>\n",
              "  "
            ]
          },
          "metadata": {},
          "execution_count": 7
        }
      ]
    },
    {
      "cell_type": "markdown",
      "source": [
        "Dropeamos nans"
      ],
      "metadata": {
        "id": "fPG-CLW0ZZsr"
      }
    },
    {
      "cell_type": "code",
      "source": [
        "df2 = df.dropna().copy()"
      ],
      "metadata": {
        "id": "QN53gA8oHZRR"
      },
      "execution_count": null,
      "outputs": []
    },
    {
      "cell_type": "code",
      "source": [
        "df2['lnair'].plot()"
      ],
      "metadata": {
        "colab": {
          "base_uri": "https://localhost:8080/",
          "height": 282
        },
        "id": "87Bzr94tW3RM",
        "outputId": "32e10ff8-a408-4939-a0a6-f2a3c5d5a957"
      },
      "execution_count": null,
      "outputs": [
        {
          "output_type": "execute_result",
          "data": {
            "text/plain": [
              "<matplotlib.axes._subplots.AxesSubplot at 0x7ff45f0cd350>"
            ]
          },
          "metadata": {},
          "execution_count": 9
        },
        {
          "output_type": "display_data",
          "data": {
            "text/plain": [
              "<Figure size 432x288 with 1 Axes>"
            ],
            "image/png": "[encoded data removed]"
          },
          "metadata": {
            "needs_background": "light"
          }
        }
      ]
    },
    {
      "cell_type": "markdown",
      "source": [
        "Con este grafico, podemos ver cierta tendencia a estacionaridad, pero para poder comprobar esto, usaremos el Dicky-Fuller test\n",
        "\n",
        "https://www.statology.org/dickey-fuller-test-python/"
      ],
      "metadata": {
        "id": "gNLJm_nZakkG"
      }
    },
    {
      "cell_type": "code",
      "source": [
        "from statsmodels.tsa.stattools import adfuller\n",
        "\n",
        "p_value = adfuller(df2['lnair'])\n",
        "p_value[1]"
      ],
      "metadata": {
        "colab": {
          "base_uri": "https://localhost:8080/"
        },
        "id": "o1MFn8zZFrDi",
        "outputId": "f29009e5-4475-49a2-bc3b-d4a4f44eb830"
      },
      "execution_count": null,
      "outputs": [
        {
          "output_type": "execute_result",
          "data": {
            "text/plain": [
              "0.003199714140110552"
            ]
          },
          "metadata": {},
          "execution_count": 10
        }
      ]
    },
    {
      "cell_type": "markdown",
      "source": [
        "Podemos ver que tenemos un p-value de 0.00320, por lo que posemos usar los valores de D = 1 y d = 0 para calcular el porcentaje de cambio anual segun el mes, debido a que nuestra variable ya es estacionaria y con esto proseguimos a usar un modelo ARIMA-SARIMA"
      ],
      "metadata": {
        "id": "5KQ0liMkHQbT"
      }
    },
    {
      "cell_type": "markdown",
      "source": [
        "## Calibra un modelo ARIMA-SARIMA basado en pruebas y gráficos de autocorrelaciones . Explica claramente el proceso de calibración y la razón de cómo va modificando los parámetros."
      ],
      "metadata": {
        "id": "jahm-6JTche9"
      }
    },
    {
      "cell_type": "markdown",
      "source": [
        "Realizamos el grafico de autocorrelaciones (ACF) y una autocorrelacion parcial de los datos(PACF) para conocer la aucorrelacion de los datos con sus lags"
      ],
      "metadata": {
        "id": "w-mkeUebf1T7"
      }
    },
    {
      "cell_type": "code",
      "source": [
        "plot_acf(df2['lnair'], lags = 12)"
      ],
      "metadata": {
        "colab": {
          "base_uri": "https://localhost:8080/",
          "height": 545
        },
        "id": "o99F1fZ6F8gJ",
        "outputId": "1502330f-8a4a-489f-d7e6-95a221c1863d"
      },
      "execution_count": null,
      "outputs": [
        {
          "output_type": "execute_result",
          "data": {
            "text/plain": [
              "<Figure size 432x288 with 1 Axes>"
            ],
            "image/png": "[encoded data removed]"
          },
          "metadata": {},
          "execution_count": 11
        },
        {
          "output_type": "display_data",
          "data": {
            "text/plain": [
              "<Figure size 432x288 with 1 Axes>"
            ],
            "image/png": "[encoded data removed]"
          },
          "metadata": {
            "needs_background": "light"
          }
        }
      ]
    },
    {
      "cell_type": "code",
      "source": [
        "plot_pacf(df2['lnair'], lags = 12)"
      ],
      "metadata": {
        "colab": {
          "base_uri": "https://localhost:8080/",
          "height": 545
        },
        "id": "LrbDGj9RF9_N",
        "outputId": "8c644834-a9c0-41b0-bbfe-5227c6aa543a"
      },
      "execution_count": null,
      "outputs": [
        {
          "output_type": "execute_result",
          "data": {
            "text/plain": [
              "<Figure size 432x288 with 1 Axes>"
            ],
            "image/png": "[encoded data removed]"
          },
          "metadata": {},
          "execution_count": 12
        },
        {
          "output_type": "display_data",
          "data": {
            "text/plain": [
              "<Figure size 432x288 with 1 Axes>"
            ],
            "image/png": "[encoded data removed]"
          },
          "metadata": {
            "needs_background": "light"
          }
        }
      ]
    },
    {
      "cell_type": "markdown",
      "source": [
        "En el grafico de autocorrelacion, podemos ver que esta va descendiendo, entre mayor el lag, y nos damos cueta que los lags anteriores a 7 se encuentran por encima del 95% de significancia.\n",
        "\n",
        "Por otro lado, en la autocorrelacion parcial unicamente se ve una autocorrelacion explictiva en el primer lag.\n",
        "\n",
        "Debido a esto, tomaremos un valor de p = 1 y q = 0\n"
      ],
      "metadata": {
        "id": "qyT1rOaoj_Dl"
      }
    },
    {
      "cell_type": "markdown",
      "source": [
        "##Estimacion del modelo ARIMA-SARIMA"
      ],
      "metadata": {
        "id": "SPKJGYmT0NBy"
      }
    },
    {
      "cell_type": "markdown",
      "source": [
        "Variables para el modelo ARIMA-SARIMA"
      ],
      "metadata": {
        "id": "7xXRQlzK0JsY"
      }
    },
    {
      "cell_type": "markdown",
      "source": [
        "###Modelo 1"
      ],
      "metadata": {
        "id": "oCmTSJQCw7lZ"
      }
    },
    {
      "cell_type": "code",
      "source": [
        "#Arima(1,0,0)\n",
        "p = 1\n",
        "q = 0\n",
        "d = 0\n",
        "\n",
        "#SARIMA(0,0,1,12)\n",
        "P = 0\n",
        "Q = 0\n",
        "D = 1\n",
        "num_per = 12"
      ],
      "metadata": {
        "id": "6mc-2sbhKoZv"
      },
      "execution_count": null,
      "outputs": []
    },
    {
      "cell_type": "code",
      "source": [
        "import statsmodels.api as sm\n",
        "\n",
        "df2['y'] = np.log(df2['Valor'])\n",
        "model1 = sm.tsa.statespace.SARIMAX(df2['y'], order = (p, d, q), seasonal_order = (P, D, Q, num_per), trend = 'c',  simple_differencing = True)\n",
        "aux = model1.fit()\n",
        "print(aux.summary())"
      ],
      "metadata": {
        "id": "t3z2H85XLDyh",
        "colab": {
          "base_uri": "https://localhost:8080/"
        },
        "outputId": "fa29cb42-e14b-41b1-95e9-8536e5070ab1"
      },
      "execution_count": null,
      "outputs": [
        {
          "output_type": "stream",
          "name": "stderr",
          "text": [
            "/usr/local/lib/python3.7/dist-packages/statsmodels/tsa/base/tsa_model.py:579: ValueWarning: An unsupported index was provided and will be ignored when e.g. forecasting.\n",
            "  ' ignored when e.g. forecasting.', ValueWarning)\n",
            "/usr/local/lib/python3.7/dist-packages/statsmodels/tsa/base/tsa_model.py:579: ValueWarning: An unsupported index was provided and will be ignored when e.g. forecasting.\n",
            "  ' ignored when e.g. forecasting.', ValueWarning)\n"
          ]
        },
        {
          "output_type": "stream",
          "name": "stdout",
          "text": [
            "                                     SARIMAX Results                                      \n",
            "==========================================================================================\n",
            "Dep. Variable:                             DS12.y   No. Observations:                  332\n",
            "Model:             SARIMAX(1, 0, 0)x(0, 0, 0, 12)   Log Likelihood                 714.064\n",
            "Date:                            Sat, 26 Nov 2022   AIC                          -1422.127\n",
            "Time:                                    04:11:40   BIC                          -1410.712\n",
            "Sample:                                         0   HQIC                         -1417.575\n",
            "                                            - 332                                         \n",
            "Covariance Type:                              opg                                         \n",
            "==============================================================================\n",
            "                 coef    std err          z      P>|z|      [0.025      0.975]\n",
            "------------------------------------------------------------------------------\n",
            "intercept      0.0041      0.002      2.626      0.009       0.001       0.007\n",
            "ar.L1          0.7878      0.022     35.739      0.000       0.745       0.831\n",
            "sigma2         0.0008   2.19e-05     36.118      0.000       0.001       0.001\n",
            "===================================================================================\n",
            "Ljung-Box (L1) (Q):                   0.28   Jarque-Bera (JB):              2885.82\n",
            "Prob(Q):                              0.60   Prob(JB):                         0.00\n",
            "Heteroskedasticity (H):               2.23   Skew:                            -0.43\n",
            "Prob(H) (two-sided):                  0.00   Kurtosis:                        17.42\n",
            "===================================================================================\n",
            "\n",
            "Warnings:\n",
            "[1] Covariance matrix calculated using the outer product of gradients (complex-step).\n"
          ]
        }
      ]
    },
    {
      "cell_type": "code",
      "source": [
        "plot_acf(aux.resid, lags = 12)"
      ],
      "metadata": {
        "id": "7i26gzV5Lq44",
        "colab": {
          "base_uri": "https://localhost:8080/",
          "height": 545
        },
        "outputId": "4ce42998-291d-4342-bfa7-bea76daa22ba"
      },
      "execution_count": null,
      "outputs": [
        {
          "output_type": "execute_result",
          "data": {
            "text/plain": [
              "<Figure size 432x288 with 1 Axes>"
            ],
            "image/png": "[encoded data removed]"
          },
          "metadata": {},
          "execution_count": 15
        },
        {
          "output_type": "display_data",
          "data": {
            "text/plain": [
              "<Figure size 432x288 with 1 Axes>"
            ],
            "image/png": "[encoded data removed]"
          },
          "metadata": {
            "needs_background": "light"
          }
        }
      ]
    },
    {
      "cell_type": "code",
      "source": [
        "plot_pacf(aux.resid, lags = 12)"
      ],
      "metadata": {
        "id": "k-TQ9Mw5Lssx",
        "colab": {
          "base_uri": "https://localhost:8080/",
          "height": 545
        },
        "outputId": "8d9618ce-9b56-45ad-aec5-d0691bc9a563"
      },
      "execution_count": null,
      "outputs": [
        {
          "output_type": "execute_result",
          "data": {
            "text/plain": [
              "<Figure size 432x288 with 1 Axes>"
            ],
            "image/png": "[encoded data removed]"
          },
          "metadata": {},
          "execution_count": 16
        },
        {
          "output_type": "display_data",
          "data": {
            "text/plain": [
              "<Figure size 432x288 with 1 Axes>"
            ],
            "image/png": "[encoded data removed]"
          },
          "metadata": {
            "needs_background": "light"
          }
        }
      ]
    },
    {
      "cell_type": "markdown",
      "source": [
        "Como podemos ver el las graficas, tenemos ruido en el lag 12, yendo este hacia abajo, por o que cambiaremos el parametro Q de 0 a 1 para tratar de corregir este error"
      ],
      "metadata": {
        "id": "992pub_hlSkz"
      }
    },
    {
      "cell_type": "markdown",
      "source": [
        "###Modelo 2"
      ],
      "metadata": {
        "id": "erqd3It4w-D9"
      }
    },
    {
      "cell_type": "code",
      "source": [
        "Q = 1"
      ],
      "metadata": {
        "id": "MNS3RKPuc7DV"
      },
      "execution_count": null,
      "outputs": []
    },
    {
      "cell_type": "code",
      "source": [
        "modelo2 = sm.tsa.statespace.SARIMAX(df2['y'], order = (p, d, q), seasonal_order = (P, D, Q, num_per),  trend = 'c',  simple_differencing = True)\n",
        "aux2 = modelo2.fit()\n",
        "print(aux2.summary())"
      ],
      "metadata": {
        "colab": {
          "base_uri": "https://localhost:8080/"
        },
        "id": "sUpaxSqFc94p",
        "outputId": "5e416d92-9139-4390-ce86-b7d9808f0ec8"
      },
      "execution_count": null,
      "outputs": [
        {
          "output_type": "stream",
          "name": "stderr",
          "text": [
            "/usr/local/lib/python3.7/dist-packages/statsmodels/tsa/base/tsa_model.py:579: ValueWarning: An unsupported index was provided and will be ignored when e.g. forecasting.\n",
            "  ' ignored when e.g. forecasting.', ValueWarning)\n",
            "/usr/local/lib/python3.7/dist-packages/statsmodels/tsa/base/tsa_model.py:579: ValueWarning: An unsupported index was provided and will be ignored when e.g. forecasting.\n",
            "  ' ignored when e.g. forecasting.', ValueWarning)\n"
          ]
        },
        {
          "output_type": "stream",
          "name": "stdout",
          "text": [
            "                                      SARIMAX Results                                       \n",
            "============================================================================================\n",
            "Dep. Variable:                               DS12.y   No. Observations:                  332\n",
            "Model:             SARIMAX(1, 0, 0)x(0, 0, [1], 12)   Log Likelihood                 777.666\n",
            "Date:                              Sat, 26 Nov 2022   AIC                          -1547.332\n",
            "Time:                                      04:11:44   BIC                          -1532.111\n",
            "Sample:                                           0   HQIC                         -1541.262\n",
            "                                              - 332                                         \n",
            "Covariance Type:                                opg                                         \n",
            "==============================================================================\n",
            "                 coef    std err          z      P>|z|      [0.025      0.975]\n",
            "------------------------------------------------------------------------------\n",
            "intercept      0.0025      0.000      6.158      0.000       0.002       0.003\n",
            "ar.L1          0.8785      0.019     45.539      0.000       0.841       0.916\n",
            "ma.S.L12      -0.8465      0.049    -17.267      0.000      -0.943      -0.750\n",
            "sigma2         0.0005   1.38e-05     37.428      0.000       0.000       0.001\n",
            "===================================================================================\n",
            "Ljung-Box (L1) (Q):                   4.09   Jarque-Bera (JB):              7595.76\n",
            "Prob(Q):                              0.04   Prob(JB):                         0.00\n",
            "Heteroskedasticity (H):               2.06   Skew:                            -2.33\n",
            "Prob(H) (two-sided):                  0.00   Kurtosis:                        25.96\n",
            "===================================================================================\n",
            "\n",
            "Warnings:\n",
            "[1] Covariance matrix calculated using the outer product of gradients (complex-step).\n"
          ]
        }
      ]
    },
    {
      "cell_type": "code",
      "source": [
        "plot_acf(aux2.resid, lags = 12)"
      ],
      "metadata": {
        "colab": {
          "base_uri": "https://localhost:8080/",
          "height": 545
        },
        "id": "bVgDj_bPdAr2",
        "outputId": "a063ee5d-3db3-492c-ba9e-283d9818308a"
      },
      "execution_count": null,
      "outputs": [
        {
          "output_type": "execute_result",
          "data": {
            "text/plain": [
              "<Figure size 432x288 with 1 Axes>"
            ],
            "image/png": "[encoded data removed]"
          },
          "metadata": {},
          "execution_count": 19
        },
        {
          "output_type": "display_data",
          "data": {
            "text/plain": [
              "<Figure size 432x288 with 1 Axes>"
            ],
            "image/png": "[encoded data removed]"
          },
          "metadata": {
            "needs_background": "light"
          }
        }
      ]
    },
    {
      "cell_type": "code",
      "source": [
        "plot_pacf(aux2.resid, lags = 12)"
      ],
      "metadata": {
        "colab": {
          "base_uri": "https://localhost:8080/",
          "height": 545
        },
        "id": "HlTVNcjndDJF",
        "outputId": "f28484f8-4bc1-4a7a-da8d-c019ff6ac833"
      },
      "execution_count": null,
      "outputs": [
        {
          "output_type": "execute_result",
          "data": {
            "text/plain": [
              "<Figure size 432x288 with 1 Axes>"
            ],
            "image/png": "[encoded data removed]"
          },
          "metadata": {},
          "execution_count": 20
        },
        {
          "output_type": "display_data",
          "data": {
            "text/plain": [
              "<Figure size 432x288 with 1 Axes>"
            ],
            "image/png": "[encoded data removed]"
          },
          "metadata": {
            "needs_background": "light"
          }
        }
      ]
    },
    {
      "cell_type": "markdown",
      "source": [
        "Se puede mejorar la calibración ya que en el último gráficos de AC-PACS se ve ligeramente que la autocorrelación con lag 1 es negativa y sig. Por lo que cambiamos de q=0 a q=1"
      ],
      "metadata": {
        "id": "Fj0MMcqGmqt0"
      }
    },
    {
      "cell_type": "markdown",
      "source": [
        "###Modelo 3"
      ],
      "metadata": {
        "id": "zT282X_VmqQW"
      }
    },
    {
      "cell_type": "code",
      "source": [
        "q = 1"
      ],
      "metadata": {
        "id": "xq240nTXnBrG"
      },
      "execution_count": null,
      "outputs": []
    },
    {
      "cell_type": "code",
      "source": [
        "modelo3 = sm.tsa.statespace.SARIMAX(df2['y'], order = (p, d, q), seasonal_order = (P, D, Q, num_per),  trend = 'c',  simple_differencing = True)\n",
        "aux3 = modelo3.fit()\n",
        "print(aux3.summary())"
      ],
      "metadata": {
        "colab": {
          "base_uri": "https://localhost:8080/"
        },
        "id": "eL33fhP1nSEu",
        "outputId": "9a59ea6f-39c4-4f05-f4c3-529f35eac5ea"
      },
      "execution_count": null,
      "outputs": [
        {
          "output_type": "stream",
          "name": "stderr",
          "text": [
            "/usr/local/lib/python3.7/dist-packages/statsmodels/tsa/base/tsa_model.py:579: ValueWarning: An unsupported index was provided and will be ignored when e.g. forecasting.\n",
            "  ' ignored when e.g. forecasting.', ValueWarning)\n",
            "/usr/local/lib/python3.7/dist-packages/statsmodels/tsa/base/tsa_model.py:579: ValueWarning: An unsupported index was provided and will be ignored when e.g. forecasting.\n",
            "  ' ignored when e.g. forecasting.', ValueWarning)\n"
          ]
        },
        {
          "output_type": "stream",
          "name": "stdout",
          "text": [
            "                                     SARIMAX Results                                      \n",
            "==========================================================================================\n",
            "Dep. Variable:                             DS12.y   No. Observations:                  332\n",
            "Model:             SARIMAX(1, 0, 1)x(0, 0, 1, 12)   Log Likelihood                 781.071\n",
            "Date:                            Sat, 26 Nov 2022   AIC                          -1552.142\n",
            "Time:                                    04:11:50   BIC                          -1533.116\n",
            "Sample:                                         0   HQIC                         -1544.554\n",
            "                                            - 332                                         \n",
            "Covariance Type:                              opg                                         \n",
            "==============================================================================\n",
            "                 coef    std err          z      P>|z|      [0.025      0.975]\n",
            "------------------------------------------------------------------------------\n",
            "intercept      0.0016      0.000      3.363      0.001       0.001       0.003\n",
            "ar.L1          0.9211      0.023     40.693      0.000       0.877       0.966\n",
            "ma.L1         -0.1867      0.038     -4.951      0.000      -0.261      -0.113\n",
            "ma.S.L12      -0.8465      0.048    -17.796      0.000      -0.940      -0.753\n",
            "sigma2         0.0005   1.37e-05     37.011      0.000       0.000       0.001\n",
            "===================================================================================\n",
            "Ljung-Box (L1) (Q):                   0.06   Jarque-Bera (JB):              9914.59\n",
            "Prob(Q):                              0.80   Prob(JB):                         0.00\n",
            "Heteroskedasticity (H):               2.31   Skew:                            -2.73\n",
            "Prob(H) (two-sided):                  0.00   Kurtosis:                        29.21\n",
            "===================================================================================\n",
            "\n",
            "Warnings:\n",
            "[1] Covariance matrix calculated using the outer product of gradients (complex-step).\n"
          ]
        },
        {
          "output_type": "stream",
          "name": "stderr",
          "text": [
            "/usr/local/lib/python3.7/dist-packages/statsmodels/base/model.py:568: ConvergenceWarning: Maximum Likelihood optimization failed to converge. Check mle_retvals\n",
            "  ConvergenceWarning)\n"
          ]
        }
      ]
    },
    {
      "cell_type": "code",
      "source": [
        "plot_acf(aux3.resid, lags = 12)"
      ],
      "metadata": {
        "colab": {
          "base_uri": "https://localhost:8080/",
          "height": 545
        },
        "id": "gMTAOxJOnZRn",
        "outputId": "ea4a4639-2b2f-4e14-8d4a-5a58ebee0a54"
      },
      "execution_count": null,
      "outputs": [
        {
          "output_type": "execute_result",
          "data": {
            "text/plain": [
              "<Figure size 432x288 with 1 Axes>"
            ],
            "image/png": "[encoded data removed]"
          },
          "metadata": {},
          "execution_count": 23
        },
        {
          "output_type": "display_data",
          "data": {
            "text/plain": [
              "<Figure size 432x288 with 1 Axes>"
            ],
            "image/png": "[encoded data removed]"
          },
          "metadata": {
            "needs_background": "light"
          }
        }
      ]
    },
    {
      "cell_type": "code",
      "source": [
        "plot_pacf(aux3.resid, lags = 12)"
      ],
      "metadata": {
        "colab": {
          "base_uri": "https://localhost:8080/",
          "height": 545
        },
        "id": "cblomnqenbQK",
        "outputId": "a37f13e6-d449-446c-f3f2-b0d186bafdb1"
      },
      "execution_count": null,
      "outputs": [
        {
          "output_type": "execute_result",
          "data": {
            "text/plain": [
              "<Figure size 432x288 with 1 Axes>"
            ],
            "image/png": "[encoded data removed]"
          },
          "metadata": {},
          "execution_count": 24
        },
        {
          "output_type": "display_data",
          "data": {
            "text/plain": [
              "<Figure size 432x288 with 1 Axes>"
            ],
            "image/png": "[encoded data removed]"
          },
          "metadata": {
            "needs_background": "light"
          }
        }
      ]
    },
    {
      "cell_type": "markdown",
      "source": [
        "Como podemos ver en estos graficos, los lags de la variable ya se encientran todas por debajo del 95%, tanto en la cutocorrelacion parcial como en la normal, por lo que ya no generan ruido en nuestro modelo. \n",
        "\n",
        "En cuanto al p-value de nuestras variables, todos tienen un valor muy bajo, por lo que las variables pueden ser consideradas como relevantes. \n",
        "\n",
        "Gracias a esto, ya podemos generar un modelo, el cual seria:\n",
        "\n",
        "y_(t) = 0.0016 + 0.9211 * y_(t-1) - 0.1867 * E_(t-1) - 0.8465 * E_(t-12)+- 0.0005(Desviacion estandar)\n",
        "\n",
        "\n",
        "\n",
        "\n"
      ],
      "metadata": {
        "id": "OwlOli4BO_5R"
      }
    },
    {
      "cell_type": "markdown",
      "source": [
        "###Descripcion de las variables"
      ],
      "metadata": {
        "id": "D_D9iboS9DTC"
      }
    },
    {
      "cell_type": "markdown",
      "source": [
        "Con esto, nos damos cuenta que:\n",
        "* el valor de 'y' anterior tiene una significancia del 92.11% para el crecimiento economico anual actual y vemos que tiene una alta significancia ya que su z es de mas de 40.\n",
        "* tambien, podemos ver que el error por temporada tiene una relacion de 84.65% de forma negatia y alta significancia por su p-value de 0.00\n",
        "* y el error anterior de 18.67%, tambien de forma negativa con un p-value igual de 0.00"
      ],
      "metadata": {
        "id": "OYP1rA_BQ0lV"
      }
    },
    {
      "cell_type": "markdown",
      "source": [
        "###Prediccion"
      ],
      "metadata": {
        "id": "KQcrHqb39QQu"
      }
    },
    {
      "cell_type": "markdown",
      "source": [
        "Declaramos las variables de p, d, q, P, D, Q que se usaran para el modelo SARIMA"
      ],
      "metadata": {
        "id": "2AuOcagGHoy8"
      }
    },
    {
      "cell_type": "code",
      "source": [
        "#Arima(1,1,0)\n",
        "p = 1\n",
        "q = 1\n",
        "d = 0\n",
        "\n",
        "#SARIMA(0,1,1,12)\n",
        "P = 0\n",
        "Q = 1\n",
        "D = 1\n",
        "num_per = 12"
      ],
      "metadata": {
        "id": "3qIwv4F9-uc1"
      },
      "execution_count": null,
      "outputs": []
    },
    {
      "cell_type": "code",
      "source": [
        "modelo4 = sm.tsa.statespace.SARIMAX(df['Valor'], order = (p, d, q), seasonal_order = (P, D, Q, num_per),  trend = 'c')\n",
        "aux4 = modelo4.fit()"
      ],
      "metadata": {
        "id": "v3MQX30U-mrw"
      },
      "execution_count": null,
      "outputs": []
    },
    {
      "cell_type": "markdown",
      "source": [
        "Usando el metodo de predict del modelo indicamos el inicio y fin para la prediccion"
      ],
      "metadata": {
        "id": "SYMhqgFs9Tmc"
      }
    },
    {
      "cell_type": "code",
      "source": [
        "y = aux4.predict(start=0, end=(len(df) + 24))"
      ],
      "metadata": {
        "id": "ghM-inKK2BAE"
      },
      "execution_count": null,
      "outputs": []
    },
    {
      "cell_type": "code",
      "source": [
        "df = df[['Valor', 'Periodo']]"
      ],
      "metadata": {
        "id": "OO-9ynhy_CqL"
      },
      "execution_count": null,
      "outputs": []
    },
    {
      "cell_type": "markdown",
      "source": [
        "Insertamos filas para los siguientes 24 meses en los que realizaremos la prediccion "
      ],
      "metadata": {
        "id": "uFt0i-_QHxVx"
      }
    },
    {
      "cell_type": "code",
      "source": [
        "import math\n",
        "df = df.append(pd.Series([math.nan,'2022/09'], index=['Valor','Periodo']), ignore_index=True)\n",
        "df = df.append(pd.Series([math.nan,'2022/10'], index=['Valor','Periodo']), ignore_index=True)\n",
        "df = df.append(pd.Series([math.nan,'2022/11'], index=['Valor','Periodo']), ignore_index=True)\n",
        "df = df.append(pd.Series([math.nan,'2022/12'], index=['Valor','Periodo']), ignore_index=True)\n",
        "df = df.append(pd.Series([math.nan,'2023/01'], index=['Valor','Periodo']), ignore_index=True)\n",
        "df = df.append(pd.Series([math.nan,'2023/02'], index=['Valor','Periodo']), ignore_index=True)\n",
        "df = df.append(pd.Series([math.nan,'2023/03'], index=['Valor','Periodo']), ignore_index=True)\n",
        "df = df.append(pd.Series([math.nan,'2023/04'], index=['Valor','Periodo']), ignore_index=True)\n",
        "df = df.append(pd.Series([math.nan,'2023/05'], index=['Valor','Periodo']), ignore_index=True)\n",
        "df = df.append(pd.Series([math.nan,'2023/06'], index=['Valor','Periodo']), ignore_index=True)\n",
        "df = df.append(pd.Series([math.nan,'2023/07'], index=['Valor','Periodo']), ignore_index=True)\n",
        "df = df.append(pd.Series([math.nan,'2023/08'], index=['Valor','Periodo']), ignore_index=True)\n",
        "df = df.append(pd.Series([math.nan,'2023/09'], index=['Valor','Periodo']), ignore_index=True)\n",
        "df = df.append(pd.Series([math.nan,'2023/10'], index=['Valor','Periodo']), ignore_index=True)\n",
        "df = df.append(pd.Series([math.nan,'2023/11'], index=['Valor','Periodo']), ignore_index=True)\n",
        "df = df.append(pd.Series([math.nan,'2023/12'], index=['Valor','Periodo']), ignore_index=True)\n",
        "df = df.append(pd.Series([math.nan,'2024/01'], index=['Valor','Periodo']), ignore_index=True)\n",
        "df = df.append(pd.Series([math.nan,'2024/02'], index=['Valor','Periodo']), ignore_index=True)\n",
        "df = df.append(pd.Series([math.nan,'2024/03'], index=['Valor','Periodo']), ignore_index=True)\n",
        "df = df.append(pd.Series([math.nan,'2024/04'], index=['Valor','Periodo']), ignore_index=True)\n",
        "df = df.append(pd.Series([math.nan,'2024/05'], index=['Valor','Periodo']), ignore_index=True)\n",
        "df = df.append(pd.Series([math.nan,'2024/06'], index=['Valor','Periodo']), ignore_index=True)\n",
        "df = df.append(pd.Series([math.nan,'2024/07'], index=['Valor','Periodo']), ignore_index=True)\n",
        "df = df.append(pd.Series([math.nan,'2024/08'], index=['Valor','Periodo']), ignore_index=True)"
      ],
      "metadata": {
        "id": "V9RR0KHI_IG3"
      },
      "execution_count": null,
      "outputs": []
    },
    {
      "cell_type": "code",
      "source": [
        "df['val_pred'] = y"
      ],
      "metadata": {
        "id": "fz-4x7dE2kB8"
      },
      "execution_count": null,
      "outputs": []
    },
    {
      "cell_type": "markdown",
      "source": [
        "Comparamos las y predecidas con el modelo con las y reales"
      ],
      "metadata": {
        "id": "AupZiZNKJWqD"
      }
    },
    {
      "cell_type": "code",
      "source": [
        "df.iloc[:].plot()"
      ],
      "metadata": {
        "colab": {
          "base_uri": "https://localhost:8080/",
          "height": 282
        },
        "id": "skkERWGi_QGO",
        "outputId": "c2c7e683-c1cb-4989-fc93-3398bc3bca00"
      },
      "execution_count": null,
      "outputs": [
        {
          "output_type": "execute_result",
          "data": {
            "text/plain": [
              "<matplotlib.axes._subplots.AxesSubplot at 0x7ff453124250>"
            ]
          },
          "metadata": {},
          "execution_count": 31
        },
        {
          "output_type": "display_data",
          "data": {
            "text/plain": [
              "<Figure size 432x288 with 1 Axes>"
            ],
            "image/png": "[encoded data removed]"
          },
          "metadata": {
            "needs_background": "light"
          }
        }
      ]
    },
    {
      "cell_type": "markdown",
      "source": [
        "Vemos la prediccion futura en una grafica"
      ],
      "metadata": {
        "id": "rW3cO0FWJSG3"
      }
    },
    {
      "cell_type": "code",
      "source": [
        "df.iloc[350:].plot()"
      ],
      "metadata": {
        "colab": {
          "base_uri": "https://localhost:8080/",
          "height": 282
        },
        "id": "r33JoekP_X8_",
        "outputId": "198a8f9a-726d-45e7-ae81-cead134eae97"
      },
      "execution_count": null,
      "outputs": [
        {
          "output_type": "execute_result",
          "data": {
            "text/plain": [
              "<matplotlib.axes._subplots.AxesSubplot at 0x7ff452d833d0>"
            ]
          },
          "metadata": {},
          "execution_count": 32
        },
        {
          "output_type": "display_data",
          "data": {
            "text/plain": [
              "<Figure size 432x288 with 1 Axes>"
            ],
            "image/png": "[encoded data removed]"
          },
          "metadata": {
            "needs_background": "light"
          }
        }
      ]
    },
    {
      "cell_type": "code",
      "source": [
        "df.tail(24)"
      ],
      "metadata": {
        "colab": {
          "base_uri": "https://localhost:8080/",
          "height": 802
        },
        "id": "wm-rpPjo_fxY",
        "outputId": "998b019f-f19f-41b7-9ac3-8265adef183a"
      },
      "execution_count": null,
      "outputs": [
        {
          "output_type": "execute_result",
          "data": {
            "text/plain": [
              "     Valor  Periodo    val_pred\n",
              "356    NaN  2022/09  110.526705\n",
              "357    NaN  2022/10  116.144827\n",
              "358    NaN  2022/11  118.350126\n",
              "359    NaN  2022/12  117.040367\n",
              "360    NaN  2023/01  113.530171\n",
              "361    NaN  2023/02  111.082870\n",
              "362    NaN  2023/03  116.123995\n",
              "363    NaN  2023/04  111.806114\n",
              "364    NaN  2023/05  115.622564\n",
              "365    NaN  2023/06  115.957012\n",
              "366    NaN  2023/07  115.580637\n",
              "367    NaN  2023/08  115.828451\n",
              "368    NaN  2023/09  113.148850\n",
              "369    NaN  2023/10  118.669124\n",
              "370    NaN  2023/11  120.787815\n",
              "371    NaN  2023/12  119.401398\n",
              "372    NaN  2024/01  115.823348\n",
              "373    NaN  2024/02  113.315989\n",
              "374    NaN  2024/03  118.303955\n",
              "375    NaN  2024/04  113.939021\n",
              "376    NaN  2024/05  117.713822\n",
              "377    NaN  2024/06  118.011406\n",
              "378    NaN  2024/07  117.602402\n",
              "379    NaN  2024/08  117.821335"
            ],
            "text/html": [
              "\n",
              "  <div id=\"df-85b38717-18e4-461e-a012-6374391fda7e\">\n",
              "    <div class=\"colab-df-container\">\n",
              "      <div>\n",
              "<style scoped>\n",
              "    .dataframe tbody tr th:only-of-type {\n",
              "        vertical-align: middle;\n",
              "    }\n",
              "\n",
              "    .dataframe tbody tr th {\n",
              "        vertical-align: top;\n",
              "    }\n",
              "\n",
              "    .dataframe thead th {\n",
              "        text-align: right;\n",
              "    }\n",
              "</style>\n",
              "<table border=\"1\" class=\"dataframe\">\n",
              "  <thead>\n",
              "    <tr style=\"text-align: right;\">\n",
              "      <th></th>\n",
              "      <th>Valor</th>\n",
              "      <th>Periodo</th>\n",
              "      <th>val_pred</th>\n",
              "    </tr>\n",
              "  </thead>\n",
              "  <tbody>\n",
              "    <tr>\n",
              "      <th>356</th>\n",
              "      <td>NaN</td>\n",
              "      <td>2022/09</td>\n",
              "      <td>110.526705</td>\n",
              "    </tr>\n",
              "    <tr>\n",
              "      <th>357</th>\n",
              "      <td>NaN</td>\n",
              "      <td>2022/10</td>\n",
              "      <td>116.144827</td>\n",
              "    </tr>\n",
              "    <tr>\n",
              "      <th>358</th>\n",
              "      <td>NaN</td>\n",
              "      <td>2022/11</td>\n",
              "      <td>118.350126</td>\n",
              "    </tr>\n",
              "    <tr>\n",
              "      <th>359</th>\n",
              "      <td>NaN</td>\n",
              "      <td>2022/12</td>\n",
              "      <td>117.040367</td>\n",
              "    </tr>\n",
              "    <tr>\n",
              "      <th>360</th>\n",
              "      <td>NaN</td>\n",
              "      <td>2023/01</td>\n",
              "      <td>113.530171</td>\n",
              "    </tr>\n",
              "    <tr>\n",
              "      <th>361</th>\n",
              "      <td>NaN</td>\n",
              "      <td>2023/02</td>\n",
              "      <td>111.082870</td>\n",
              "    </tr>\n",
              "    <tr>\n",
              "      <th>362</th>\n",
              "      <td>NaN</td>\n",
              "      <td>2023/03</td>\n",
              "      <td>116.123995</td>\n",
              "    </tr>\n",
              "    <tr>\n",
              "      <th>363</th>\n",
              "      <td>NaN</td>\n",
              "      <td>2023/04</td>\n",
              "      <td>111.806114</td>\n",
              "    </tr>\n",
              "    <tr>\n",
              "      <th>364</th>\n",
              "      <td>NaN</td>\n",
              "      <td>2023/05</td>\n",
              "      <td>115.622564</td>\n",
              "    </tr>\n",
              "    <tr>\n",
              "      <th>365</th>\n",
              "      <td>NaN</td>\n",
              "      <td>2023/06</td>\n",
              "      <td>115.957012</td>\n",
              "    </tr>\n",
              "    <tr>\n",
              "      <th>366</th>\n",
              "      <td>NaN</td>\n",
              "      <td>2023/07</td>\n",
              "      <td>115.580637</td>\n",
              "    </tr>\n",
              "    <tr>\n",
              "      <th>367</th>\n",
              "      <td>NaN</td>\n",
              "      <td>2023/08</td>\n",
              "      <td>115.828451</td>\n",
              "    </tr>\n",
              "    <tr>\n",
              "      <th>368</th>\n",
              "      <td>NaN</td>\n",
              "      <td>2023/09</td>\n",
              "      <td>113.148850</td>\n",
              "    </tr>\n",
              "    <tr>\n",
              "      <th>369</th>\n",
              "      <td>NaN</td>\n",
              "      <td>2023/10</td>\n",
              "      <td>118.669124</td>\n",
              "    </tr>\n",
              "    <tr>\n",
              "      <th>370</th>\n",
              "      <td>NaN</td>\n",
              "      <td>2023/11</td>\n",
              "      <td>120.787815</td>\n",
              "    </tr>\n",
              "    <tr>\n",
              "      <th>371</th>\n",
              "      <td>NaN</td>\n",
              "      <td>2023/12</td>\n",
              "      <td>119.401398</td>\n",
              "    </tr>\n",
              "    <tr>\n",
              "      <th>372</th>\n",
              "      <td>NaN</td>\n",
              "      <td>2024/01</td>\n",
              "      <td>115.823348</td>\n",
              "    </tr>\n",
              "    <tr>\n",
              "      <th>373</th>\n",
              "      <td>NaN</td>\n",
              "      <td>2024/02</td>\n",
              "      <td>113.315989</td>\n",
              "    </tr>\n",
              "    <tr>\n",
              "      <th>374</th>\n",
              "      <td>NaN</td>\n",
              "      <td>2024/03</td>\n",
              "      <td>118.303955</td>\n",
              "    </tr>\n",
              "    <tr>\n",
              "      <th>375</th>\n",
              "      <td>NaN</td>\n",
              "      <td>2024/04</td>\n",
              "      <td>113.939021</td>\n",
              "    </tr>\n",
              "    <tr>\n",
              "      <th>376</th>\n",
              "      <td>NaN</td>\n",
              "      <td>2024/05</td>\n",
              "      <td>117.713822</td>\n",
              "    </tr>\n",
              "    <tr>\n",
              "      <th>377</th>\n",
              "      <td>NaN</td>\n",
              "      <td>2024/06</td>\n",
              "      <td>118.011406</td>\n",
              "    </tr>\n",
              "    <tr>\n",
              "      <th>378</th>\n",
              "      <td>NaN</td>\n",
              "      <td>2024/07</td>\n",
              "      <td>117.602402</td>\n",
              "    </tr>\n",
              "    <tr>\n",
              "      <th>379</th>\n",
              "      <td>NaN</td>\n",
              "      <td>2024/08</td>\n",
              "      <td>117.821335</td>\n",
              "    </tr>\n",
              "  </tbody>\n",
              "</table>\n",
              "</div>\n",
              "      <button class=\"colab-df-convert\" onclick=\"convertToInteractive('df-85b38717-18e4-461e-a012-6374391fda7e')\"\n",
              "              title=\"Convert this dataframe to an interactive table.\"\n",
              "              style=\"display:none;\">\n",
              "        \n",
              "  <svg xmlns=\"http://www.w3.org/2000/svg\" height=\"24px\"viewBox=\"0 0 24 24\"\n",
              "       width=\"24px\">\n",
              "    <path d=\"M0 0h24v24H0V0z\" fill=\"none\"/>\n",
              "    <path d=\"M18.56 5.44l.94 2.06.94-2.06 2.06-.94-2.06-.94-.94-2.06-.94 2.06-2.06.94zm-11 1L8.5 8.5l.94-2.06 2.06-.94-2.06-.94L8.5 2.5l-.94 2.06-2.06.94zm10 10l.94 2.06.94-2.06 2.06-.94-2.06-.94-.94-2.06-.94 2.06-2.06.94z\"/><path d=\"M17.41 7.96l-1.37-1.37c-.4-.4-.92-.59-1.43-.59-.52 0-1.04.2-1.43.59L10.3 9.45l-7.72 7.72c-.78.78-.78 2.05 0 2.83L4 21.41c.39.39.9.59 1.41.59.51 0 1.02-.2 1.41-.59l7.78-7.78 2.81-2.81c.8-.78.8-2.07 0-2.86zM5.41 20L4 18.59l7.72-7.72 1.47 1.35L5.41 20z\"/>\n",
              "  </svg>\n",
              "      </button>\n",
              "      \n",
              "  <style>\n",
              "    .colab-df-container {\n",
              "      display:flex;\n",
              "      flex-wrap:wrap;\n",
              "      gap: 12px;\n",
              "    }\n",
              "\n",
              "    .colab-df-convert {\n",
              "      background-color: #E8F0FE;\n",
              "      border: none;\n",
              "      border-radius: 50%;\n",
              "      cursor: pointer;\n",
              "      display: none;\n",
              "      fill: #1967D2;\n",
              "      height: 32px;\n",
              "      padding: 0 0 0 0;\n",
              "      width: 32px;\n",
              "    }\n",
              "\n",
              "    .colab-df-convert:hover {\n",
              "      background-color: #E2EBFA;\n",
              "      box-shadow: 0px 1px 2px rgba(60, 64, 67, 0.3), 0px 1px 3px 1px rgba(60, 64, 67, 0.15);\n",
              "      fill: #174EA6;\n",
              "    }\n",
              "\n",
              "    [theme=dark] .colab-df-convert {\n",
              "      background-color: #3B4455;\n",
              "      fill: #D2E3FC;\n",
              "    }\n",
              "\n",
              "    [theme=dark] .colab-df-convert:hover {\n",
              "      background-color: #434B5C;\n",
              "      box-shadow: 0px 1px 3px 1px rgba(0, 0, 0, 0.15);\n",
              "      filter: drop-shadow(0px 1px 2px rgba(0, 0, 0, 0.3));\n",
              "      fill: #FFFFFF;\n",
              "    }\n",
              "  </style>\n",
              "\n",
              "      <script>\n",
              "        const buttonEl =\n",
              "          document.querySelector('#df-85b38717-18e4-461e-a012-6374391fda7e button.colab-df-convert');\n",
              "        buttonEl.style.display =\n",
              "          google.colab.kernel.accessAllowed ? 'block' : 'none';\n",
              "\n",
              "        async function convertToInteractive(key) {\n",
              "          const element = document.querySelector('#df-85b38717-18e4-461e-a012-6374391fda7e');\n",
              "          const dataTable =\n",
              "            await google.colab.kernel.invokeFunction('convertToInteractive',\n",
              "                                                     [key], {});\n",
              "          if (!dataTable) return;\n",
              "\n",
              "          const docLinkHtml = 'Like what you see? Visit the ' +\n",
              "            '<a target=\"_blank\" href=https://colab.research.google.com/notebooks/data_table.ipynb>data table notebook</a>'\n",
              "            + ' to learn more about interactive tables.';\n",
              "          element.innerHTML = '';\n",
              "          dataTable['output_type'] = 'display_data';\n",
              "          await google.colab.output.renderOutput(dataTable, element);\n",
              "          const docLink = document.createElement('div');\n",
              "          docLink.innerHTML = docLinkHtml;\n",
              "          element.appendChild(docLink);\n",
              "        }\n",
              "      </script>\n",
              "    </div>\n",
              "  </div>\n",
              "  "
            ]
          },
          "metadata": {},
          "execution_count": 33
        }
      ]
    },
    {
      "cell_type": "markdown",
      "source": [
        "Podemos ver que las y_predecidas siguen la misma tendencia de las anteriores, y en este caso podemos ver que va aumentando"
      ],
      "metadata": {
        "id": "8NZWGAApG1oW"
      }
    }
  ]
}